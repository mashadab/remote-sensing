{
 "cells": [
  {
   "cell_type": "code",
   "execution_count": 3,
   "id": "113367a2-162d-404d-8476-4bcab397d5f7",
   "metadata": {},
   "outputs": [],
   "source": [
    "import rioxarray #rasterio xarray extension: foundational understanding of rioxarray\n",
    "                 #rioxarray extends xarray with the rio accessor"
   ]
  },
  {
   "cell_type": "code",
   "execution_count": null,
   "id": "a93c9fc7-b743-4aba-886b-12153857065a",
   "metadata": {},
   "outputs": [],
   "source": []
  }
 ],
 "metadata": {
  "kernelspec": {
   "display_name": "Python 3 (ipykernel)",
   "language": "python",
   "name": "python3"
  },
  "language_info": {
   "codemirror_mode": {
    "name": "ipython",
    "version": 3
   },
   "file_extension": ".py",
   "mimetype": "text/x-python",
   "name": "python",
   "nbconvert_exporter": "python",
   "pygments_lexer": "ipython3",
   "version": "3.8.12"
  }
 },
 "nbformat": 4,
 "nbformat_minor": 5
}
