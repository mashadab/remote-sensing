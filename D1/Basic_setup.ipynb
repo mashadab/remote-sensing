{
 "cells": [
  {
   "cell_type": "markdown",
   "id": "f144a97c-b3e4-4bc3-9619-e47208641a2c",
   "metadata": {},
   "source": [
    "# IEEE Summer School Meeting Links\n",
    "\n",
    "## Table of Contents: https://carpentries-incubator.github.io/geospatial-python/\n",
    " \n",
    "## Setup Page: https://carpentries-incubator.github.io/geospatial-python/setup.html\n",
    " \n",
    "## Notebook Page: https://pad.carpentries.org/igarss2023\n",
    "\n",
    "## All notes: https://carpentries-incubator.github.io/geospatial-python/\n",
    "\n",
    "\n",
    "## Install (build an environment)\n",
    "### conda create -n geospatial -c conda-forge -y \\\n",
    "###   python=3.10 jupyterlab numpy matplotlib \\\n",
    "###   xarray rasterio geopandas rioxarray earthpy descartes xarray-spatial pystac-client python-graphviz\n",
    "   \n",
    "## Lectures\n",
    "\n",
    "\n",
    "### Raster: Store file as a grid, like a grid\n",
    "### Advantanges: compact, can store in one go, can use polygon/ray computations\n",
    "### Disadvantages: requires large storage, no metadata\n",
    "\n",
    "### Geotif is a common extension, can bhave multiple bands\n",
    "### Shapefile are same as the tif file. Object type: poing, line, polygon\n",
    "\n"
   ]
  },
  {
   "cell_type": "markdown",
   "id": "71fa15ac-c802-4989-b032-01187bb6527c",
   "metadata": {},
   "source": [
    "## 1. Intro to Raster: https://carpentries-incubator.github.io/geospatial-python/01-intro-raster-data/index.html\n",
    "\n",
    "## Coordinate Reference System"
   ]
  },
  {
   "cell_type": "markdown",
   "id": "25ea44cd-3931-4720-b74a-7973b8b6fa78",
   "metadata": {},
   "source": [
    "### We will use WGS84 datum = EPSG8324"
   ]
  },
  {
   "cell_type": "markdown",
   "id": "32950eb0-8430-4c01-a1d9-9301d3cba26c",
   "metadata": {},
   "source": [
    "## Choosing the Right Map Projection: https://source.opennews.org/articles/choosing-right-map-projection/"
   ]
  },
  {
   "cell_type": "code",
   "execution_count": null,
   "id": "5080d99e-54b8-42fc-ada5-bfa8fd091f03",
   "metadata": {},
   "outputs": [],
   "source": []
  }
 ],
 "metadata": {
  "kernelspec": {
   "display_name": "Python 3 (ipykernel)",
   "language": "python",
   "name": "python3"
  },
  "language_info": {
   "codemirror_mode": {
    "name": "ipython",
    "version": 3
   },
   "file_extension": ".py",
   "mimetype": "text/x-python",
   "name": "python",
   "nbconvert_exporter": "python",
   "pygments_lexer": "ipython3",
   "version": "3.8.12"
  }
 },
 "nbformat": 4,
 "nbformat_minor": 5
}
