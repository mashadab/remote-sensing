{
 "cells": [
  {
   "cell_type": "markdown",
   "id": "f144a97c-b3e4-4bc3-9619-e47208641a2c",
   "metadata": {},
   "source": [
    "# IEEE Summer School Meeting Links\n",
    "\n",
    "## PYSTAC API Documentation: https://pystac-client.readthedocs.io/en/latest/api.html\n",
    "\n",
    "## Table of Contents: https://carpentries-incubator.github.io/geospatial-python/\n",
    " \n",
    "## Setup Page: https://carpentries-incubator.github.io/geospatial-python/setup.html\n",
    " \n",
    "## Notebook Page: https://pad.carpentries.org/igarss2023\n",
    "\n",
    "## All notes: https://carpentries-incubator.github.io/geospatial-python/\n",
    "\n",
    "\n",
    "## Install (build an environment)\n",
    "### conda create -n geospatial -c conda-forge -y \\\n",
    "###   python=3.10 jupyterlab numpy matplotlib \\\n",
    "###   xarray rasterio geopandas rioxarray earthpy descartes xarray-spatial pystac-client python-graphviz\n",
    "   \n",
    "## Lectures\n",
    "\n",
    "\n",
    "### Raster: Store file as a grid, like a grid\n",
    "### Advantanges: compact, can store in one go, can use polygon/ray computations\n",
    "### Disadvantages: requires large storage, no metadata\n",
    "\n",
    "### Geotif is a common extension, can bhave multiple bands\n",
    "### Shapefile are same as the tif file. Object type: poing, line, polygon\n",
    "\n"
   ]
  },
  {
   "cell_type": "markdown",
   "id": "71fa15ac-c802-4989-b032-01187bb6527c",
   "metadata": {},
   "source": [
    "## 1. Intro to Raster: https://carpentries-incubator.github.io/geospatial-python/01-intro-raster-data/index.html\n",
    "\n",
    "## Coordinate Reference System"
   ]
  },
  {
   "cell_type": "markdown",
   "id": "25ea44cd-3931-4720-b74a-7973b8b6fa78",
   "metadata": {},
   "source": [
    "### We will use WGS84 datum = EPSG8324"
   ]
  },
  {
   "cell_type": "markdown",
   "id": "32950eb0-8430-4c01-a1d9-9301d3cba26c",
   "metadata": {},
   "source": [
    "## Choosing the Right Map Projection: https://source.opennews.org/articles/choosing-right-map-projection/"
   ]
  },
  {
   "cell_type": "markdown",
   "id": "48b2595e-199f-48f0-93b3-ead21a978374",
   "metadata": {},
   "source": [
    "### A number of powerful geospatial processing libraries exist for general-purpose programming languages like Java and C++. However, the learning curve for these languages is steep and the effort required is excessive for users who only need a subset of their functionality.\n",
    "\n",
    "### Higher-level scripting languages like Python and R are easier to learn and use. Both now have their own packages that wrap up those geospatial processing libraries and make them easy to access and use safely. A key example is the Java Topology Suite (JTS), which is implemented in C++ as GEOS. GEOS is accessible in Python via the shapely package (and geopandas, which makes use of shapely) and in R via sf. R and Python also have interface packages for GDAL, and for specific GIS apps.\n",
    "\n",
    "#### This last point is a huge advantage for GIS-by-programming; these interface packages give you the ability to access functions unique to particular programs, but have your entire workflow recorded in a central document - a document that can be re-run at will. Below are lists of some of the key spatial packages for Python, which we will be using in the remainder of this workshop.\n",
    "\n",
    "### geopandas and geocube for working with vector data\n",
    "### rasterio and rioxarray for working with raster data\n",
    "### These packages along with the matplotlib package are all we need for spatial data visualisation. Python also has many fundamental scientific packages that are relevant in the geospatial domain. Below is a list of particularly fundamental packages. numpy, scipy, and scikit-image are all excellent options for working with rasters, as arrays."
   ]
  },
  {
   "cell_type": "markdown",
   "id": "199bd8cc-0f2a-4d1c-9c20-6b46b76f54fa",
   "metadata": {},
   "source": [
    "## 5. Access satellite imagery using Python: https://carpentries-incubator.github.io/geospatial-python/05-access-data/index.html"
   ]
  },
  {
   "cell_type": "code",
   "execution_count": null,
   "id": "f5ad962d-76dd-417a-a6dc-422951acb4eb",
   "metadata": {},
   "outputs": [],
   "source": []
  }
 ],
 "metadata": {
  "kernelspec": {
   "display_name": "Python 3 (ipykernel)",
   "language": "python",
   "name": "python3"
  },
  "language_info": {
   "codemirror_mode": {
    "name": "ipython",
    "version": 3
   },
   "file_extension": ".py",
   "mimetype": "text/x-python",
   "name": "python",
   "nbconvert_exporter": "python",
   "pygments_lexer": "ipython3",
   "version": "3.10.12"
  }
 },
 "nbformat": 4,
 "nbformat_minor": 5
}
