{
 "cells": [
  {
   "cell_type": "code",
   "execution_count": null,
   "id": "8d94202d-f8c9-42c4-8176-82d0bc65c57f",
   "metadata": {},
   "outputs": [],
   "source": [
    "# IEEE Summer School Meeting Links\n",
    "\n",
    " Table of Contents: https://carpentries-incubator.github.io/geospatial-python/\n",
    " \n",
    " Setup Page: https://carpentries-incubator.github.io/geospatial-python/setup.html\n",
    " \n",
    " Notebook Page: https://pad.carpentries.org/igarss2023\n",
    "\n",
    "\n",
    "## Install (build an environment)\n",
    "conda create -n geospatial -c conda-forge -y \\\n",
    "   python=3.10 jupyterlab numpy matplotlib \\\n",
    "   xarray rasterio geopandas rioxarray earthpy descartes xarray-spatial pystac-client python-graphviz\n",
    "   \n",
    "## "
   ]
  }
 ],
 "metadata": {
  "kernelspec": {
   "display_name": "Python 3 (ipykernel)",
   "language": "python",
   "name": "python3"
  },
  "language_info": {
   "codemirror_mode": {
    "name": "ipython",
    "version": 3
   },
   "file_extension": ".py",
   "mimetype": "text/x-python",
   "name": "python",
   "nbconvert_exporter": "python",
   "pygments_lexer": "ipython3",
   "version": "3.8.12"
  }
 },
 "nbformat": 4,
 "nbformat_minor": 5
}
